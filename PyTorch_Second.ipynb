{
  "nbformat": 4,
  "nbformat_minor": 0,
  "metadata": {
    "colab": {
      "name": "PyTorch_Second",
      "provenance": [],
      "include_colab_link": true
    },
    "kernelspec": {
      "name": "python3",
      "display_name": "Python 3"
    },
    "accelerator": "GPU"
  },
  "cells": [
    {
      "cell_type": "markdown",
      "metadata": {
        "id": "view-in-github",
        "colab_type": "text"
      },
      "source": [
        "<a href=\"https://colab.research.google.com/github/pigsoft/Test/blob/master/PyTorch_Second.ipynb\" target=\"_parent\"><img src=\"https://colab.research.google.com/assets/colab-badge.svg\" alt=\"Open In Colab\"/></a>"
      ]
    },
    {
      "cell_type": "code",
      "metadata": {
        "id": "J1oZ7s28jTUd",
        "colab_type": "code",
        "colab": {}
      },
      "source": [
        "import numpy as np\n",
        "\n",
        "import torch\n",
        "\n",
        "dtype = torch.double\n",
        "device = torch.device(\"cpu\")\n",
        "# device = torch.device(\"cuda\")"
      ],
      "execution_count": 0,
      "outputs": []
    },
    {
      "cell_type": "code",
      "metadata": {
        "id": "pNdyq0ep2ex5",
        "colab_type": "code",
        "colab": {}
      },
      "source": [
        "class all_activation_function:\n",
        "    def __init__(self):\n",
        "        pass\n",
        "        \n",
        "    def Relu(self, x) :\n",
        "        return x*(x>0)\n",
        "    \n",
        "    def d_Relu(self, x) :\n",
        "        return 1.0*(x>0)\n",
        "    \n",
        "    def PRelu(self, x, alpha) :\n",
        "        return x*(x>=0) + alpha*x*(x<0)\n",
        "    \n",
        "    def d_PRelu(self, x, alpha) :\n",
        "        return 1.0*(x>=0) + alpha*(x<0)\n",
        "    \n",
        "    def Tanh(self, x) :\n",
        "        return torch.tanh(x)\n",
        "    \n",
        "    def d_Tanh(self, x) :\n",
        "        return 1 - torch.tanh(x)**2\n",
        "    \n",
        "    def sigmoid(self, x) :\n",
        "        return 1.0/(1 + torch.exp(-x))\n",
        "    \n",
        "    def d_sigmoid(self, x) :\n",
        "        tmp = torch.exp(-x)\n",
        "        return tmp/((1-tmp)**2)\n",
        "    \n",
        "    def Elu(self, x, alpha) :\n",
        "        return alpha*(torch.exp(x)-1)*(x<=0) + x*(x>0)\n",
        "    \n",
        "    def d_Elu(self, x, alpha) :\n",
        "        return alpha * torch.exp(x) * (x<=0) + 1.0 * (x>0)\n",
        "    \n",
        "    def softmax(self, x):\n",
        "        return torch.exp(x) / torch.reshape(torch.sum(torch.exp(x), axis=1), (-1, 1))\n",
        "    \n",
        "    def log_softmax(self, x):\n",
        "        return torch.log(self.softmax(x))\n",
        "    \n",
        "    def CrossEntropy(self, x, y):\n",
        "        log_softmax = -self.log_softmax(x)\n",
        "        \n",
        "        expected_loss = torch.zeros(1, dtype=dtype)\n",
        "        for row, col in enumerate(y):\n",
        "            expected_loss += log_softmax[row, col]\n",
        "        expected_loss /= log_softmax.shape[0]\n",
        "\n",
        "        return expected_loss"
      ],
      "execution_count": 0,
      "outputs": []
    },
    {
      "cell_type": "code",
      "metadata": {
        "id": "IHaIcH4_TVo8",
        "colab_type": "code",
        "colab": {}
      },
      "source": [
        "class neural_network(all_activation_function):\n",
        "\n",
        "    def __init__(self, X, y):\n",
        "        self.X_train = torch.from_numpy(X).to(device=device)\n",
        "        self.X = torch.from_numpy(X).to(device=device)\n",
        "        self.y = torch.from_numpy(y)\n",
        "        self.W = []\n",
        "        self.b = []\n",
        "        self.n_node = []\n",
        "        self.activation_func = []\n",
        "        self.loss_func = None\n",
        "        self.list_loss = []\n",
        "        self.loss_ = None\n",
        "\n",
        "        self.dict_activation_func = {\"sigmoid\": self.sigmoid,\n",
        "                                     \"softmax\": self.softmax,\n",
        "                                     \"softmax_cross_entropy\": self.CrossEntropy\n",
        "                                     }\n",
        "    \n",
        "    def linear(self, X, W, b):\n",
        "        Z = X @ W + b\n",
        "        return Z\n",
        "\n",
        "    def layer(self, n_node, activation_func):\n",
        "        self.n_node.append(n_node)\n",
        "        self.activation_func.append(activation_func)\n",
        "\n",
        "    def loss(self, n_node, loss_func):\n",
        "        self.n_node.append(n_node)\n",
        "        self.loss_func = loss_func\n",
        "    \n",
        "    def forward(self, epoch):\n",
        "        # Set X_train to original value for forward \n",
        "        self.X = self.X_train\n",
        "\n",
        "        # i = 0 (first layer) to len(self.n_node) - 1 \n",
        "        for i in range(len(self.n_node) - 1):\n",
        "            n_prev_node = self.X.shape[1]\n",
        "            n_curr_node = self.n_node[i]\n",
        "\n",
        "            Z = self.linear(self.X, self.W[i], self.b[i])\n",
        "            selfX = self.dict_activation_func[self.activation_func[i]](Z)\n",
        "        \n",
        "        # Last layer (loss function)        \n",
        "        Z = self.linear(self.X, self.W[-1], self.b[-1])\n",
        "        self.loss = self.dict_activation_func[self.loss_func](Z, self.y)\n",
        "        self.list_loss.append(self.loss.data)\n",
        "        \n",
        "        if epoch % 100 == 0:\n",
        "            print('epoch: {}, \\tloss: {}'.format(epoch, self.loss.data[0]))\n",
        "\n",
        "    def backward(self, lr):\n",
        "        # Backpropagation\n",
        "        self.loss.backward()\n",
        "        for i in range(len(self.W)):\n",
        "            with torch.no_grad():\n",
        "                self.W[i] -= self.W[i].grad * lr\n",
        "                self.b[i] -= self.b[i].grad * lr\n",
        "\n",
        "                self.W[i].grad.zero_()\n",
        "                self.b[i].grad.zero_()\n",
        "\n",
        "    def fit(self, n_epoch=2000, lr=1e-6):\n",
        "        # Create weights and biases\n",
        "        n_prev_node = self.X_train.shape[1]\n",
        "        for i in range(len(self.n_node)):\n",
        "            n_curr_node = self.n_node[i]\n",
        "            \n",
        "            torch.manual_seed(0)\n",
        "            W = torch.randn(n_prev_node, n_curr_node, device=device, dtype=dtype, requires_grad=True)\n",
        "            b = torch.randn(n_curr_node, device=device, dtype=dtype, requires_grad=True)\n",
        "            self.W.append(W)\n",
        "            self.b.append(b)\n",
        "\n",
        "            n_prev_node = self.n_node[i]\n",
        "        \n",
        "        for epoch in range(n_epoch):\n",
        "            self.forward(epoch)\n",
        "            self.backward(lr)\n",
        "\n",
        "    def predict(self, X_test, y_test):\n",
        "        # forward(1)\n",
        "        pass\n",
        "        "
      ],
      "execution_count": 0,
      "outputs": []
    },
    {
      "cell_type": "code",
      "metadata": {
        "id": "aecfau48j45z",
        "colab_type": "code",
        "outputId": "299582d8-67e5-4d1b-d742-307c2af203b1",
        "colab": {
          "base_uri": "https://localhost:8080/",
          "height": 122
        }
      },
      "source": [
        "from sklearn.datasets import load_digits\n",
        "from sklearn.model_selection import train_test_split\n",
        "\n",
        "digits = load_digits()\n",
        "X = np.array(digits.data)\n",
        "y = np.array(digits.target)\n",
        "X_train, X_test, y_train, y_test = train_test_split(X, y, test_size=0.33, random_state=42)\n",
        "print(X_train.shape)\n",
        "print(X_test.shape)\n",
        "print(y_train.shape)\n",
        "print(y_test.shape)\n",
        "print(type(X_train[0][0]))\n",
        "print(type(y_train[0]))"
      ],
      "execution_count": 4,
      "outputs": [
        {
          "output_type": "stream",
          "text": [
            "(1203, 64)\n",
            "(594, 64)\n",
            "(1203,)\n",
            "(594,)\n",
            "<class 'numpy.float64'>\n",
            "<class 'numpy.int64'>\n"
          ],
          "name": "stdout"
        }
      ]
    },
    {
      "cell_type": "code",
      "metadata": {
        "id": "KYaWhHkmF_Mo",
        "colab_type": "code",
        "outputId": "24c237c0-436a-4470-b07f-f8d5386ac745",
        "colab": {
          "base_uri": "https://localhost:8080/",
          "height": 350
        }
      },
      "source": [
        "nn = neural_network(X_train, y_train)\n",
        "nn.layer(10, 'sigmoid')\n",
        "nn.layer(10, 'sigmoid')\n",
        "nn.layer(10, 'sigmoid')\n",
        "nn.loss(10, 'softmax_cross_entropy')\n",
        "nn.fit(n_epoch=2000, lr=2.0)"
      ],
      "execution_count": 5,
      "outputs": [
        {
          "output_type": "error",
          "ename": "RuntimeError",
          "evalue": "ignored",
          "traceback": [
            "\u001b[0;31m---------------------------------------------------------------------------\u001b[0m",
            "\u001b[0;31mRuntimeError\u001b[0m                              Traceback (most recent call last)",
            "\u001b[0;32m<ipython-input-5-cf5079f3a644>\u001b[0m in \u001b[0;36m<module>\u001b[0;34m()\u001b[0m\n\u001b[1;32m      4\u001b[0m \u001b[0mnn\u001b[0m\u001b[0;34m.\u001b[0m\u001b[0mlayer\u001b[0m\u001b[0;34m(\u001b[0m\u001b[0;36m10\u001b[0m\u001b[0;34m,\u001b[0m \u001b[0;34m'sigmoid'\u001b[0m\u001b[0;34m)\u001b[0m\u001b[0;34m\u001b[0m\u001b[0;34m\u001b[0m\u001b[0m\n\u001b[1;32m      5\u001b[0m \u001b[0mnn\u001b[0m\u001b[0;34m.\u001b[0m\u001b[0mloss\u001b[0m\u001b[0;34m(\u001b[0m\u001b[0;36m10\u001b[0m\u001b[0;34m,\u001b[0m \u001b[0;34m'softmax_cross_entropy'\u001b[0m\u001b[0;34m)\u001b[0m\u001b[0;34m\u001b[0m\u001b[0;34m\u001b[0m\u001b[0m\n\u001b[0;32m----> 6\u001b[0;31m \u001b[0mnn\u001b[0m\u001b[0;34m.\u001b[0m\u001b[0mfit\u001b[0m\u001b[0;34m(\u001b[0m\u001b[0mn_epoch\u001b[0m\u001b[0;34m=\u001b[0m\u001b[0;36m2000\u001b[0m\u001b[0;34m,\u001b[0m \u001b[0mlr\u001b[0m\u001b[0;34m=\u001b[0m\u001b[0;36m2.0\u001b[0m\u001b[0;34m)\u001b[0m\u001b[0;34m\u001b[0m\u001b[0;34m\u001b[0m\u001b[0m\n\u001b[0m",
            "\u001b[0;32m<ipython-input-3-853d588ad43c>\u001b[0m in \u001b[0;36mfit\u001b[0;34m(self, n_epoch, lr)\u001b[0m\n\u001b[1;32m     76\u001b[0m \u001b[0;34m\u001b[0m\u001b[0m\n\u001b[1;32m     77\u001b[0m         \u001b[0;32mfor\u001b[0m \u001b[0mepoch\u001b[0m \u001b[0;32min\u001b[0m \u001b[0mrange\u001b[0m\u001b[0;34m(\u001b[0m\u001b[0mn_epoch\u001b[0m\u001b[0;34m)\u001b[0m\u001b[0;34m:\u001b[0m\u001b[0;34m\u001b[0m\u001b[0;34m\u001b[0m\u001b[0m\n\u001b[0;32m---> 78\u001b[0;31m             \u001b[0mself\u001b[0m\u001b[0;34m.\u001b[0m\u001b[0mforward\u001b[0m\u001b[0;34m(\u001b[0m\u001b[0mepoch\u001b[0m\u001b[0;34m)\u001b[0m\u001b[0;34m\u001b[0m\u001b[0;34m\u001b[0m\u001b[0m\n\u001b[0m\u001b[1;32m     79\u001b[0m             \u001b[0mself\u001b[0m\u001b[0;34m.\u001b[0m\u001b[0mbackward\u001b[0m\u001b[0;34m(\u001b[0m\u001b[0mlr\u001b[0m\u001b[0;34m)\u001b[0m\u001b[0;34m\u001b[0m\u001b[0;34m\u001b[0m\u001b[0m\n\u001b[1;32m     80\u001b[0m \u001b[0;34m\u001b[0m\u001b[0m\n",
            "\u001b[0;32m<ipython-input-3-853d588ad43c>\u001b[0m in \u001b[0;36mforward\u001b[0;34m(self, epoch)\u001b[0m\n\u001b[1;32m     39\u001b[0m             \u001b[0mn_curr_node\u001b[0m \u001b[0;34m=\u001b[0m \u001b[0mself\u001b[0m\u001b[0;34m.\u001b[0m\u001b[0mn_node\u001b[0m\u001b[0;34m[\u001b[0m\u001b[0mi\u001b[0m\u001b[0;34m]\u001b[0m\u001b[0;34m\u001b[0m\u001b[0;34m\u001b[0m\u001b[0m\n\u001b[1;32m     40\u001b[0m \u001b[0;34m\u001b[0m\u001b[0m\n\u001b[0;32m---> 41\u001b[0;31m             \u001b[0mZ\u001b[0m \u001b[0;34m=\u001b[0m \u001b[0mself\u001b[0m\u001b[0;34m.\u001b[0m\u001b[0mlinear\u001b[0m\u001b[0;34m(\u001b[0m\u001b[0mself\u001b[0m\u001b[0;34m.\u001b[0m\u001b[0mX\u001b[0m\u001b[0;34m,\u001b[0m \u001b[0mself\u001b[0m\u001b[0;34m.\u001b[0m\u001b[0mW\u001b[0m\u001b[0;34m[\u001b[0m\u001b[0mi\u001b[0m\u001b[0;34m]\u001b[0m\u001b[0;34m,\u001b[0m \u001b[0mself\u001b[0m\u001b[0;34m.\u001b[0m\u001b[0mb\u001b[0m\u001b[0;34m[\u001b[0m\u001b[0mi\u001b[0m\u001b[0;34m]\u001b[0m\u001b[0;34m)\u001b[0m\u001b[0;34m\u001b[0m\u001b[0;34m\u001b[0m\u001b[0m\n\u001b[0m\u001b[1;32m     42\u001b[0m             \u001b[0mselfX\u001b[0m \u001b[0;34m=\u001b[0m \u001b[0mself\u001b[0m\u001b[0;34m.\u001b[0m\u001b[0mdict_activation_func\u001b[0m\u001b[0;34m[\u001b[0m\u001b[0mself\u001b[0m\u001b[0;34m.\u001b[0m\u001b[0mactivation_func\u001b[0m\u001b[0;34m[\u001b[0m\u001b[0mi\u001b[0m\u001b[0;34m]\u001b[0m\u001b[0;34m]\u001b[0m\u001b[0;34m(\u001b[0m\u001b[0mZ\u001b[0m\u001b[0;34m)\u001b[0m\u001b[0;34m\u001b[0m\u001b[0;34m\u001b[0m\u001b[0m\n\u001b[1;32m     43\u001b[0m \u001b[0;34m\u001b[0m\u001b[0m\n",
            "\u001b[0;32m<ipython-input-3-853d588ad43c>\u001b[0m in \u001b[0;36mlinear\u001b[0;34m(self, X, W, b)\u001b[0m\n\u001b[1;32m     19\u001b[0m \u001b[0;34m\u001b[0m\u001b[0m\n\u001b[1;32m     20\u001b[0m     \u001b[0;32mdef\u001b[0m \u001b[0mlinear\u001b[0m\u001b[0;34m(\u001b[0m\u001b[0mself\u001b[0m\u001b[0;34m,\u001b[0m \u001b[0mX\u001b[0m\u001b[0;34m,\u001b[0m \u001b[0mW\u001b[0m\u001b[0;34m,\u001b[0m \u001b[0mb\u001b[0m\u001b[0;34m)\u001b[0m\u001b[0;34m:\u001b[0m\u001b[0;34m\u001b[0m\u001b[0;34m\u001b[0m\u001b[0m\n\u001b[0;32m---> 21\u001b[0;31m         \u001b[0mZ\u001b[0m \u001b[0;34m=\u001b[0m \u001b[0mX\u001b[0m \u001b[0;34m@\u001b[0m \u001b[0mW\u001b[0m \u001b[0;34m+\u001b[0m \u001b[0mb\u001b[0m\u001b[0;34m\u001b[0m\u001b[0;34m\u001b[0m\u001b[0m\n\u001b[0m\u001b[1;32m     22\u001b[0m         \u001b[0;32mreturn\u001b[0m \u001b[0mZ\u001b[0m\u001b[0;34m\u001b[0m\u001b[0;34m\u001b[0m\u001b[0m\n\u001b[1;32m     23\u001b[0m \u001b[0;34m\u001b[0m\u001b[0m\n",
            "\u001b[0;31mRuntimeError\u001b[0m: size mismatch, m1: [1203 x 64], m2: [10 x 10] at /pytorch/aten/src/TH/generic/THTensorMath.cpp:197"
          ]
        }
      ]
    }
  ]
}