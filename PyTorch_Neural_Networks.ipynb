{
  "nbformat": 4,
  "nbformat_minor": 0,
  "metadata": {
    "colab": {
      "name": "PyTorch Neural Networks",
      "provenance": [],
      "collapsed_sections": [],
      "include_colab_link": true
    },
    "kernelspec": {
      "name": "python3",
      "display_name": "Python 3"
    },
    "accelerator": "GPU"
  },
  "cells": [
    {
      "cell_type": "markdown",
      "metadata": {
        "id": "view-in-github",
        "colab_type": "text"
      },
      "source": [
        "<a href=\"https://colab.research.google.com/github/pigsoft/Test/blob/master/PyTorch_Neural_Networks.ipynb\" target=\"_parent\"><img src=\"https://colab.research.google.com/assets/colab-badge.svg\" alt=\"Open In Colab\"/></a>"
      ]
    },
    {
      "cell_type": "code",
      "metadata": {
        "id": "J1oZ7s28jTUd",
        "colab_type": "code",
        "colab": {}
      },
      "source": [
        "import numpy as np\n",
        "\n",
        "import torch\n",
        "\n",
        "dtype = torch.double\n",
        "device = torch.device(\"cpu\")\n",
        "# device = torch.device(\"cuda\")"
      ],
      "execution_count": 0,
      "outputs": []
    },
    {
      "cell_type": "code",
      "metadata": {
        "id": "pNdyq0ep2ex5",
        "colab_type": "code",
        "colab": {}
      },
      "source": [
        "class all_activation_function:\n",
        "    def __init__(self):\n",
        "        pass\n",
        "        \n",
        "    def Relu(self, x) :\n",
        "        return x*(x>0)\n",
        "    \n",
        "    def d_Relu(self, x) :\n",
        "        return 1.0*(x>0)\n",
        "    \n",
        "    def PRelu(self, x, alpha) :\n",
        "        return x*(x>=0) + alpha*x*(x<0)\n",
        "    \n",
        "    def d_PRelu(self, x, alpha) :\n",
        "        return 1.0*(x>=0) + alpha*(x<0)\n",
        "    \n",
        "    def Tanh(self, x) :\n",
        "        return torch.tanh(x)\n",
        "    \n",
        "    def d_Tanh(self, x) :\n",
        "        return 1 - torch.tanh(x)**2\n",
        "    \n",
        "    def sigmoid(self, x) :\n",
        "        return 1.0/(1 + torch.exp(-x))\n",
        "    \n",
        "    def d_sigmoid(self, x) :\n",
        "        tmp = torch.exp(-x)\n",
        "        return tmp/((1-tmp)**2)\n",
        "    \n",
        "    def Elu(self, x, alpha) :\n",
        "        return alpha*(torch.exp(x)-1)*(x<=0) + x*(x>0)\n",
        "    \n",
        "    def d_Elu(self, x, alpha) :\n",
        "        return alpha * torch.exp(x) * (x<=0) + 1.0 * (x>0)\n",
        "    \n",
        "    def softmax(self, x):\n",
        "        return torch.exp(x) / torch.reshape(torch.sum(torch.exp(x), axis=1), (-1, 1))\n",
        "    \n",
        "    def log_softmax(self, x):\n",
        "        return torch.log(self.softmax(x))\n",
        "    \n",
        "    def CrossEntropy(self, x, y):\n",
        "        log_softmax = -self.log_softmax(x)\n",
        "        \n",
        "        expected_loss = torch.zeros(1, dtype=dtype)\n",
        "        for row, col in enumerate(y):\n",
        "            expected_loss += log_softmax[row, col]\n",
        "        expected_loss /= log_softmax.shape[0]\n",
        "\n",
        "        return expected_loss"
      ],
      "execution_count": 0,
      "outputs": []
    },
    {
      "cell_type": "code",
      "metadata": {
        "id": "IHaIcH4_TVo8",
        "colab_type": "code",
        "colab": {}
      },
      "source": [
        "class neural_network(all_activation_function):\n",
        "\n",
        "    def __init__(self, X, y):\n",
        "        self.X_train = torch.from_numpy(X).to(device=device)\n",
        "        self.X = torch.from_numpy(X).to(device=device)\n",
        "        self.y = torch.from_numpy(y)\n",
        "        self.W = []\n",
        "        self.b = []\n",
        "        self.n_node = []\n",
        "        self.activation_func = []\n",
        "        self.loss_func = None\n",
        "        self.list_loss = []\n",
        "        self.loss_ = None\n",
        "\n",
        "        self.dict_activation_func = {\"sigmoid\": self.sigmoid,\n",
        "                                     \"softmax\": self.softmax,\n",
        "                                     \"softmax_cross_entropy\": self.CrossEntropy\n",
        "                                     }\n",
        "\n",
        "    def linear(self, X, W, b):\n",
        "        Z = X @ W + b\n",
        "        return Z\n",
        "\n",
        "    def layer(self, n_node, activation_func):\n",
        "        self.n_node.append(n_node)\n",
        "        self.activation_func.append(activation_func)\n",
        "\n",
        "    def loss(self, n_node, loss_func):\n",
        "        self.n_node.append(n_node)\n",
        "        self.loss_func = loss_func\n",
        "    \n",
        "    def forward_train(self, epoch):\n",
        "        # Set X_train to original value for forward \n",
        "        self.X = self.X_train\n",
        "\n",
        "        # i = 0 (first layer) to len(self.n_node) - 1 \n",
        "        for i in range(len(self.n_node) - 1):\n",
        "            n_prev_node = self.X.shape[1]\n",
        "            n_curr_node = self.n_node[i]\n",
        "\n",
        "            Z = self.linear(self.X, self.W[i], self.b[i])\n",
        "            self.X = self.dict_activation_func[self.activation_func[i]](Z)\n",
        "        \n",
        "        # Last layer (loss function)        \n",
        "        Z = self.linear(self.X, self.W[-1], self.b[-1])\n",
        "        self.loss = self.dict_activation_func[self.loss_func](Z, self.y)\n",
        "        self.list_loss.append(self.loss.data)\n",
        "        \n",
        "        if epoch % 100 == 0:\n",
        "            print('epoch: {}, \\tloss: {}'.format(epoch, self.loss.data[0]))\n",
        "    \n",
        "    def forward_test(self):\n",
        "        # Set X_train to original value for forward \n",
        "        self.X = self.X_test\n",
        "\n",
        "        # i = 0 (first layer) to len(self.n_node) - 1 \n",
        "        for i in range(len(self.n_node) - 1):\n",
        "            n_prev_node = self.X.shape[1]\n",
        "            n_curr_node = self.n_node[i]\n",
        "            \n",
        "            Z = self.linear(self.X, self.W[i], self.b[i])\n",
        "            self.X = self.dict_activation_func[self.activation_func[i]](Z)\n",
        "        \n",
        "        # Last layer (loss function)        \n",
        "        Z = self.linear(self.X, self.W[-1], self.b[-1])\n",
        "        predicted = torch.argmax(Z, axis=1)\n",
        "        return predicted\n",
        "\n",
        "    def backward(self, lr):\n",
        "        # Backpropagation\n",
        "        self.loss.backward()\n",
        "        for i in range(len(self.W)):\n",
        "            with torch.no_grad():\n",
        "                self.W[i] -= self.W[i].grad * lr\n",
        "                self.b[i] -= self.b[i].grad * lr\n",
        "\n",
        "                self.W[i].grad.zero_()\n",
        "                self.b[i].grad.zero_()\n",
        "\n",
        "    def fit(self, n_epoch=2000, lr=1e-6):\n",
        "        # Create weights and biases\n",
        "        n_prev_node = self.X_train.shape[1]\n",
        "        for i in range(len(self.n_node)):\n",
        "            n_curr_node = self.n_node[i]\n",
        "            \n",
        "            torch.manual_seed(0)\n",
        "            W = torch.randn(n_prev_node, n_curr_node, device=device, dtype=dtype, requires_grad=True)\n",
        "            b = torch.randn(n_curr_node, device=device, dtype=dtype, requires_grad=True)\n",
        "            self.W.append(W)\n",
        "            self.b.append(b)\n",
        "\n",
        "            n_prev_node = self.n_node[i]\n",
        "        \n",
        "        for epoch in range(n_epoch):\n",
        "            self.forward_train(epoch)\n",
        "            self.backward(lr)\n",
        "\n",
        "    def predict(self, X_test):\n",
        "        self.X_test = torch.from_numpy(X_test)\n",
        "        predicted = self.forward_test()\n",
        "        return predicted\n",
        "        "
      ],
      "execution_count": 0,
      "outputs": []
    },
    {
      "cell_type": "code",
      "metadata": {
        "id": "aecfau48j45z",
        "colab_type": "code",
        "outputId": "ff6c35c1-ee96-4725-a3c9-4be4a6e915fd",
        "colab": {
          "base_uri": "https://localhost:8080/",
          "height": 122
        }
      },
      "source": [
        "from sklearn.datasets import load_digits\n",
        "from sklearn.model_selection import train_test_split\n",
        "\n",
        "digits = load_digits()\n",
        "X = np.array(digits.data)\n",
        "y = np.array(digits.target)\n",
        "X_train, X_test, y_train, y_test = train_test_split(X, y, test_size=0.33, random_state=42)\n",
        "print(X_train.shape)\n",
        "print(X_test.shape)\n",
        "print(y_train.shape)\n",
        "print(y_test.shape)\n",
        "print(type(X_train[0][0]))\n",
        "print(type(y_train[0]))"
      ],
      "execution_count": 0,
      "outputs": [
        {
          "output_type": "stream",
          "text": [
            "(1203, 64)\n",
            "(594, 64)\n",
            "(1203,)\n",
            "(594,)\n",
            "<class 'numpy.float64'>\n",
            "<class 'numpy.int64'>\n"
          ],
          "name": "stdout"
        }
      ]
    },
    {
      "cell_type": "code",
      "metadata": {
        "id": "KYaWhHkmF_Mo",
        "colab_type": "code",
        "outputId": "9e3f1b76-a160-403e-87bc-b3019e7e60ce",
        "colab": {
          "base_uri": "https://localhost:8080/",
          "height": 210
        }
      },
      "source": [
        "nn = neural_network(X_train, y_train)\n",
        "nn.layer(10, 'sigmoid')\n",
        "nn.layer(10, 'sigmoid')\n",
        "nn.layer(10, 'sigmoid')\n",
        "nn.loss(10, 'softmax_cross_entropy')\n",
        "nn.fit(n_epoch=1001, lr=1.5)"
      ],
      "execution_count": 0,
      "outputs": [
        {
          "output_type": "stream",
          "text": [
            "epoch: 0, \tloss: 4.2598983684014256\n",
            "epoch: 100, \tloss: 1.100952897324285\n",
            "epoch: 200, \tloss: 0.6706005001694546\n",
            "epoch: 300, \tloss: 0.4698918088558004\n",
            "epoch: 400, \tloss: 0.3514013198696748\n",
            "epoch: 500, \tloss: 0.3053528031275973\n",
            "epoch: 600, \tloss: 0.24273944407598716\n",
            "epoch: 700, \tloss: 0.2328103278297493\n",
            "epoch: 800, \tloss: 0.1765971861140311\n",
            "epoch: 900, \tloss: 0.16669038727906157\n",
            "epoch: 1000, \tloss: 0.15675706870729442\n"
          ],
          "name": "stdout"
        }
      ]
    },
    {
      "cell_type": "code",
      "metadata": {
        "id": "o4i0dAzNBxXH",
        "colab_type": "code",
        "outputId": "ffcc7e11-c974-4af8-c840-5a51ade8d9d8",
        "colab": {
          "base_uri": "https://localhost:8080/",
          "height": 34
        }
      },
      "source": [
        "from sklearn.metrics import accuracy_score\n",
        "\n",
        "y_predicted = nn.predict(X_test)\n",
        "acc = accuracy_score(y_test, y_predicted)\n",
        "print('Accuracy:', acc * 100.0)"
      ],
      "execution_count": 0,
      "outputs": [
        {
          "output_type": "stream",
          "text": [
            "Accuracy: 88.38383838383838\n"
          ],
          "name": "stdout"
        }
      ]
    },
    {
      "cell_type": "code",
      "metadata": {
        "id": "Ubjia2mOFGGE",
        "colab_type": "code",
        "colab": {}
      },
      "source": [
        ""
      ],
      "execution_count": 0,
      "outputs": []
    }
  ]
}